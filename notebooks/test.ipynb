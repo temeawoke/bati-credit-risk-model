{
 "cells": [
  {
   "cell_type": "code",
   "execution_count": 2,
   "id": "3f294617",
   "metadata": {},
   "outputs": [],
   "source": [
    "import pytest\n",
    "import pandas as pd\n",
    "import numpy as np\n",
    "import os\n",
    "import sys"
   ]
  },
  {
   "cell_type": "code",
   "execution_count": 5,
   "id": "88f400c9",
   "metadata": {},
   "outputs": [],
   "source": [
    "\n",
    "try:\n",
    "    # This works in .py files\n",
    "    base_path = os.path.abspath(os.path.join(os.path.dirname(__file__), '..'))\n",
    "except NameError:\n",
    "    # This works in notebooks\n",
    "    base_path = os.path.abspath(os.path.join(os.getcwd(), '..'))\n",
    "\n",
    "sys.path.append(base_path)\n"
   ]
  },
  {
   "cell_type": "code",
   "execution_count": 6,
   "id": "4883cd09",
   "metadata": {},
   "outputs": [],
   "source": [
    "# Mock raw data for testing\n",
    "@pytest.fixture\n",
    "def sample_raw_df():\n",
    "    \"\"\"Provides a sample raw DataFrame for testing.\"\"\"\n",
    "    data = {\n",
    "        'TransactionId': [f'T{i}' for i in range(10)],\n",
    "        'BatchId': [f'B{i}' for i in range(10)],\n",
    "        'AccountId': ['A1', 'A2', 'A1', 'A3', 'A1', 'A2', 'A4', 'A1', 'A3', 'A5'],\n",
    "        'SubscriptionId': ['S1', 'S2', 'S1', 'S3', 'S1', 'S2', 'S4', 'S1', 'S3', 'S5'],\n",
    "        'CustomerId': ['C1', 'C2', 'C1', 'C3', 'C1', 'C2', 'C4', 'C1', 'C3', 'C5'],\n",
    "        'CurrencyCode': ['UGX'] * 10,\n",
    "        'CountryCode': [256] * 10,\n",
    "        'ProviderId': ['P1', 'P2', 'P1', 'P3', 'P1', 'P2', 'P4', 'P1', 'P3', 'P5'],\n",
    "        'ProductId': ['Prod1', 'Prod2', 'Prod1', 'Prod3', 'Prod1', 'Prod2', 'Prod4', 'Prod1', 'Prod3', 'Prod5'],\n",
    "        'ProductCategory': ['airtime', 'financial_services', 'airtime', 'utility_bill', 'airtime', 'financial_services', 'airtime', 'airtime', 'utility_bill', 'other'],\n",
    "        'ChannelId': ['Ch1', 'Ch2', 'Ch1', 'Ch3', 'Ch1', 'Ch2', 'Ch1', 'Ch1', 'Ch3', 'Ch1'],\n",
    "        'Amount': [100, 200, 150, 500, 120, 220, 180, 110, 550, 300],\n",
    "        'Value': [100, 200, 150, 500, 120, 220, 180, 110, 550, 300],\n",
    "        'TransactionStartTime': pd.to_datetime([\n",
    "            '2023-01-01 10:00:00', '2023-01-02 11:00:00', '2023-01-03 12:00:00',\n",
    "            '2023-01-04 13:00:00', '2023-01-05 14:00:00', '2023-01-06 15:00:00',\n",
    "            '2023-01-07 16:00:00', '2023-01-08 17:00:00', '2023-01-09 18:00:00',\n",
    "            '2023-01-10 19:00:00'\n",
    "        ]),\n",
    "        'PricingStrategy': [1, 2, 1, 3, 1, 2, 1, 1, 3, 4],\n",
    "        'FraudResult': [0, 0, 0, 1, 0, 0, 0, 0, 1, 0] # Some fraud for testing\n",
    "    }\n",
    "    return pd.DataFrame(data)"
   ]
  },
  {
   "cell_type": "code",
   "execution_count": 10,
   "id": "9cd40846",
   "metadata": {},
   "outputs": [],
   "source": [
    "# Add src directory to Python path\n",
    "sys.path.append(os.path.abspath(os.path.join(os.getcwd(), '..')))"
   ]
  },
  {
   "cell_type": "code",
   "execution_count": 11,
   "id": "56604779",
   "metadata": {},
   "outputs": [
    {
     "name": "stdout",
     "output_type": "stream",
     "text": [
      "datetime64[ns, UTC]\n",
      "Cluster Summary (Mean RFM Values):\n",
      " | Cluster   | Recency   | Frequency   | Monetary   |\n",
      "|:----------|:----------|:------------|:-----------|\n",
      "| 0         | 61.7157   | 7.6892      | 89251.7    |\n",
      "| 1         | 29        | 4091        | 1.049e+08  |\n",
      "| 2         | 12.6353   | 34.925      | 309685     |\n",
      "\n",
      "Identified High-Risk Cluster Label: 0\n",
      "<class 'pandas.core.frame.DataFrame'>\n",
      "RangeIndex: 95662 entries, 0 to 95661\n",
      "Data columns (total 16 columns):\n",
      " #   Column                Non-Null Count  Dtype  \n",
      "---  ------                --------------  -----  \n",
      " 0   TransactionId         95662 non-null  object \n",
      " 1   BatchId               95662 non-null  object \n",
      " 2   AccountId             95662 non-null  object \n",
      " 3   SubscriptionId        95662 non-null  object \n",
      " 4   CustomerId            95662 non-null  object \n",
      " 5   CurrencyCode          95662 non-null  object \n",
      " 6   CountryCode           95662 non-null  int64  \n",
      " 7   ProviderId            95662 non-null  object \n",
      " 8   ProductId             95662 non-null  object \n",
      " 9   ProductCategory       95662 non-null  object \n",
      " 10  ChannelId             95662 non-null  object \n",
      " 11  Amount                95662 non-null  float64\n",
      " 12  Value                 95662 non-null  int64  \n",
      " 13  TransactionStartTime  95662 non-null  object \n",
      " 14  PricingStrategy       95662 non-null  int64  \n",
      " 15  FraudResult           95662 non-null  int64  \n",
      "dtypes: float64(1), int64(4), object(11)\n",
      "memory usage: 11.7+ MB\n"
     ]
    },
    {
     "ename": "AttributeError",
     "evalue": "'ColumnTransformer' object has no attribute 'transformers_'",
     "output_type": "error",
     "traceback": [
      "\u001b[1;31m---------------------------------------------------------------------------\u001b[0m",
      "\u001b[1;31mAttributeError\u001b[0m                            Traceback (most recent call last)",
      "Cell \u001b[1;32mIn[11], line 3\u001b[0m\n\u001b[0;32m      1\u001b[0m \u001b[38;5;66;03m# Import custom modules\u001b[39;00m\n\u001b[0;32m      2\u001b[0m \u001b[38;5;28;01mfrom\u001b[39;00m \u001b[38;5;21;01msrc\u001b[39;00m\u001b[38;5;21;01m.\u001b[39;00m\u001b[38;5;21;01mproxy_target_engineering\u001b[39;00m \u001b[38;5;28;01mimport\u001b[39;00m engineer_proxy_target\n\u001b[1;32m----> 3\u001b[0m \u001b[38;5;28;01mfrom\u001b[39;00m \u001b[38;5;21;01msrc\u001b[39;00m\u001b[38;5;21;01m.\u001b[39;00m\u001b[38;5;21;01mfeature_engineering\u001b[39;00m \u001b[38;5;28;01mimport\u001b[39;00m preprocess_data\n",
      "File \u001b[1;32mg:\\10 Academy\\week_5\\bati-credit-risk-model\\src\\feature_engineering.py:180\u001b[0m\n\u001b[0;32m    177\u001b[0m numerical_features \u001b[38;5;241m=\u001b[39m df\u001b[38;5;241m.\u001b[39mselect_dtypes(include\u001b[38;5;241m=\u001b[39m[\u001b[38;5;124m'\u001b[39m\u001b[38;5;124mint64\u001b[39m\u001b[38;5;124m'\u001b[39m, \u001b[38;5;124m'\u001b[39m\u001b[38;5;124mfloat64\u001b[39m\u001b[38;5;124m'\u001b[39m])\u001b[38;5;241m.\u001b[39mcolumns\u001b[38;5;241m.\u001b[39mtolist()\n\u001b[0;32m    178\u001b[0m categorical_features \u001b[38;5;241m=\u001b[39m df\u001b[38;5;241m.\u001b[39mselect_dtypes(include\u001b[38;5;241m=\u001b[39m[\u001b[38;5;124m'\u001b[39m\u001b[38;5;124mobject\u001b[39m\u001b[38;5;124m'\u001b[39m, \u001b[38;5;124m'\u001b[39m\u001b[38;5;124mcategory\u001b[39m\u001b[38;5;124m'\u001b[39m])\u001b[38;5;241m.\u001b[39mcolumns\u001b[38;5;241m.\u001b[39mtolist()\n\u001b[1;32m--> 180\u001b[0m cat_encoder \u001b[38;5;241m=\u001b[39m \u001b[43mpreprocessor\u001b[49m\u001b[38;5;241;43m.\u001b[39;49m\u001b[43mnamed_transformers_\u001b[49m[\u001b[38;5;124m'\u001b[39m\u001b[38;5;124mcat\u001b[39m\u001b[38;5;124m'\u001b[39m]\u001b[38;5;241m.\u001b[39mnamed_steps[\u001b[38;5;124m'\u001b[39m\u001b[38;5;124monehot\u001b[39m\u001b[38;5;124m'\u001b[39m]\n\u001b[0;32m    181\u001b[0m cat_features \u001b[38;5;241m=\u001b[39m cat_encoder\u001b[38;5;241m.\u001b[39mget_feature_names_out()\n\u001b[0;32m    184\u001b[0m feature_names_transformed \u001b[38;5;241m=\u001b[39m \u001b[38;5;28mlist\u001b[39m(numerical_features) \u001b[38;5;241m+\u001b[39m \u001b[38;5;28mlist\u001b[39m(cat_features)\n",
      "File \u001b[1;32mg:\\10 Academy\\week_5\\bati-credit-risk-model\\env\\Lib\\site-packages\\sklearn\\compose\\_column_transformer.py:585\u001b[0m, in \u001b[0;36mColumnTransformer.named_transformers_\u001b[1;34m(self)\u001b[0m\n\u001b[0;32m    578\u001b[0m \u001b[38;5;250m\u001b[39m\u001b[38;5;124;03m\"\"\"Access the fitted transformer by name.\u001b[39;00m\n\u001b[0;32m    579\u001b[0m \n\u001b[0;32m    580\u001b[0m \u001b[38;5;124;03mRead-only attribute to access any transformer by given name.\u001b[39;00m\n\u001b[0;32m    581\u001b[0m \u001b[38;5;124;03mKeys are transformer names and values are the fitted transformer\u001b[39;00m\n\u001b[0;32m    582\u001b[0m \u001b[38;5;124;03mobjects.\u001b[39;00m\n\u001b[0;32m    583\u001b[0m \u001b[38;5;124;03m\"\"\"\u001b[39;00m\n\u001b[0;32m    584\u001b[0m \u001b[38;5;66;03m# Use Bunch object to improve autocomplete\u001b[39;00m\n\u001b[1;32m--> 585\u001b[0m \u001b[38;5;28;01mreturn\u001b[39;00m Bunch(\u001b[38;5;241m*\u001b[39m\u001b[38;5;241m*\u001b[39m{name: trans \u001b[38;5;28;01mfor\u001b[39;00m name, trans, _ \u001b[38;5;129;01min\u001b[39;00m \u001b[38;5;28;43mself\u001b[39;49m\u001b[38;5;241;43m.\u001b[39;49m\u001b[43mtransformers_\u001b[49m})\n",
      "\u001b[1;31mAttributeError\u001b[0m: 'ColumnTransformer' object has no attribute 'transformers_'"
     ]
    }
   ],
   "source": [
    "# Import custom modules\n",
    "from src.proxy_target_engineering import engineer_proxy_target\n",
    "from src.feature_engineering import preprocess_data"
   ]
  },
  {
   "cell_type": "code",
   "execution_count": 9,
   "id": "e29e356a",
   "metadata": {},
   "outputs": [
    {
     "ename": "NameError",
     "evalue": "name 'df_with_proxy' is not defined",
     "output_type": "error",
     "traceback": [
      "\u001b[1;31m---------------------------------------------------------------------------\u001b[0m",
      "\u001b[1;31mNameError\u001b[0m                                 Traceback (most recent call last)",
      "Cell \u001b[1;32mIn[9], line 2\u001b[0m\n\u001b[0;32m      1\u001b[0m \u001b[38;5;66;03m# Simulate the data preparation before calling preprocess_data as in model_training.py\u001b[39;00m\n\u001b[1;32m----> 2\u001b[0m target_is_high_risk \u001b[38;5;241m=\u001b[39m \u001b[43mdf_with_proxy\u001b[49m[\u001b[38;5;124m'\u001b[39m\u001b[38;5;124mis_high_risk\u001b[39m\u001b[38;5;124m'\u001b[39m]\n\u001b[0;32m      3\u001b[0m original_fraud_result \u001b[38;5;241m=\u001b[39m df_with_proxy[\u001b[38;5;124m'\u001b[39m\u001b[38;5;124mFraudResult\u001b[39m\u001b[38;5;124m'\u001b[39m] \u001b[38;5;66;03m# This is now a feature\u001b[39;00m\n\u001b[0;32m      5\u001b[0m df_temp_for_preprocessing \u001b[38;5;241m=\u001b[39m df_with_proxy\u001b[38;5;241m.\u001b[39mdrop(columns\u001b[38;5;241m=\u001b[39m[\u001b[38;5;124m'\u001b[39m\u001b[38;5;124mis_high_risk\u001b[39m\u001b[38;5;124m'\u001b[39m, \u001b[38;5;124m'\u001b[39m\u001b[38;5;124mFraudResult\u001b[39m\u001b[38;5;124m'\u001b[39m])\n",
      "\u001b[1;31mNameError\u001b[0m: name 'df_with_proxy' is not defined"
     ]
    }
   ],
   "source": [
    "# Simulate the data preparation before calling preprocess_data as in model_training.py\n",
    "target_is_high_risk = df_with_proxy['is_high_risk']\n",
    "original_fraud_result = df_with_proxy['FraudResult'] # This is now a feature\n",
    "\n",
    "df_temp_for_preprocessing = df_with_proxy.drop(columns=['is_high_risk', 'FraudResult'])\n",
    "processed_df = preprocess_data(df_temp_for_preprocessing)\n",
    "\n",
    "assert isinstance(processed_df, pd.DataFrame)\n",
    "assert processed_df.shape[0] == sample_raw_df.shape[0]\n",
    "    # Check for NaNs in the processed features\n",
    "assert processed_df.isnull().sum().sum() == 0"
   ]
  },
  {
   "cell_type": "code",
   "execution_count": null,
   "id": "4b0ab392",
   "metadata": {},
   "outputs": [],
   "source": []
  }
 ],
 "metadata": {
  "kernelspec": {
   "display_name": "env",
   "language": "python",
   "name": "python3"
  },
  "language_info": {
   "codemirror_mode": {
    "name": "ipython",
    "version": 3
   },
   "file_extension": ".py",
   "mimetype": "text/x-python",
   "name": "python",
   "nbconvert_exporter": "python",
   "pygments_lexer": "ipython3",
   "version": "3.12.5"
  }
 },
 "nbformat": 4,
 "nbformat_minor": 5
}
